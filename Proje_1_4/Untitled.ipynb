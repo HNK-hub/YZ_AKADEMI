{
 "cells": [
  {
   "cell_type": "code",
   "execution_count": 52,
   "id": "18969910-92ad-46a6-9fbb-a4b981338d8c",
   "metadata": {},
   "outputs": [],
   "source": [
    "#Gerekli Kütüphaneler eklendi\n",
    "import numpy as np\n",
    "import cv2\n",
    "import datetime\n",
    "import matplotlib.pyplot as plt\n",
    "%matplotlib inline"
   ]
  },
  {
   "cell_type": "code",
   "execution_count": 55,
   "id": "749770d3-0299-4975-bf18-4afee489fef9",
   "metadata": {},
   "outputs": [],
   "source": [
    "#Video okuma işlemi yapıldı eğer webcam olacaksa içine 0 yazılmalı\n",
    "video = cv2.VideoCapture('DATA/videoplayback_4.mp4')\n",
    "\n",
    "#Video boyutlarnı alıyoruz kaydetme işlemi için\n",
    "width = int(video.get(cv2.CAP_PROP_FRAME_WIDTH))\n",
    "height = int(video.get(cv2.CAP_PROP_FRAME_HEIGHT))\n",
    "fps = video.get(cv2.CAP_PROP_FPS)    \n",
    "\n",
    "\n",
    "#Videoda hata olursa kullanıcıya bilgi verir\n",
    "if video.isOpened() == False:\n",
    "    print(\"Doğru gitmeyen bir şeyler var.\")    \n",
    "    \n",
    "    \n",
    "#Video yu hangi formatta ve hangi isimde kayıt yapacaksak onu belirtiyoruz.Video boyutlarını orijinal videodan alıyoruz.\n",
    "vw = cv2.VideoWriter('videokayit.mp4', cv2.VideoWriter_fourcc(*'XVID'), fps, (width, height))     \n",
    "    \n",
    "##Burası bir döngü framleri döngüye alıyoruz çünkü her video resimlerden oluşur\n",
    "while(video.isOpened()):\n",
    "    ret, frame = video.read()\n",
    " \n",
    "    if ret == True:\n",
    "        font = cv2.FONT_HERSHEY_SCRIPT_COMPLEX\n",
    "        dt = str(datetime.datetime.now())\n",
    "        \n",
    "        #Burada putText ile yazı yazdırıyoruz tarihi hangi konumda hangi stil ile ve boyutu  nasıl olamlı onu belirtiyoruz\n",
    "        frame = cv2.putText(frame, dt,\n",
    "                            (0, 50),\n",
    "                            font, 1,\n",
    "                            (255, 255, 255),\n",
    "                            2, cv2.LINE_8)\n",
    "        cv2.imshow('VideoCalismasi', frame)\n",
    "        vw.write(frame)\n",
    " \n",
    "        if cv2.waitKey(10) & 0xFF == ord('q'):\n",
    "            break\n",
    "    else:\n",
    "         \n",
    "        break\n",
    "         \n",
    "video.release()  \n",
    "vw.release()# video yazıcısını bırakmk demek.\n",
    "cv2.destroyAllWindows()"
   ]
  },
  {
   "cell_type": "code",
   "execution_count": null,
   "id": "e850fc60-ea12-4f64-8ea8-8a9d1a7030ac",
   "metadata": {},
   "outputs": [],
   "source": []
  }
 ],
 "metadata": {
  "kernelspec": {
   "display_name": "Python 3 (ipykernel)",
   "language": "python",
   "name": "python3"
  },
  "language_info": {
   "codemirror_mode": {
    "name": "ipython",
    "version": 3
   },
   "file_extension": ".py",
   "mimetype": "text/x-python",
   "name": "python",
   "nbconvert_exporter": "python",
   "pygments_lexer": "ipython3",
   "version": "3.7.11"
  }
 },
 "nbformat": 4,
 "nbformat_minor": 5
}
